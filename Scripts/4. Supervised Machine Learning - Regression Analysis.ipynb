{
 "cells": [
  {
   "cell_type": "markdown",
   "id": "e30cedec",
   "metadata": {},
   "source": [
    "### This script contains the following:\n",
    "\n",
    "#### 1. Importing libraries and data\n",
    "#### 2. Data cleaning\n",
    "#### 3. Data prep for regression analysis\n",
    "#### 4. Regression analysis\n",
    "#### 5. Revised Regression Analysis using the reduced dataframe"
   ]
  },
  {
   "cell_type": "markdown",
   "id": "cddf705a",
   "metadata": {},
   "source": [
    "# Importing Libraries and Data"
   ]
  },
  {
   "cell_type": "code",
   "execution_count": 1,
   "id": "2714bff0",
   "metadata": {},
   "outputs": [],
   "source": [
    "import pandas as pd\n",
    "import numpy as np\n",
    "import seaborn as sns\n",
    "import matplotlib\n",
    "import matplotlib.pyplot as plt\n",
    "import os\n",
    "import sklearn\n",
    "from sklearn.model_selection import train_test_split \n",
    "from sklearn.linear_model import LinearRegression\n",
    "from sklearn.metrics import mean_squared_error, r2_score"
   ]
  },
  {
   "cell_type": "code",
   "execution_count": 2,
   "id": "fb015706",
   "metadata": {},
   "outputs": [],
   "source": [
    "# Importing Dataframes\n",
    "path = r'C:\\Users\\franz\\Documents\\Exercise_6\\01_Data\\prepared_data\\cleaned_data'\n",
    "df_all = pd.read_csv(os.path.join(path, 'combined_data.csv'), usecols = all)"
   ]
  },
  {
   "cell_type": "code",
   "execution_count": 3,
   "id": "caae38fd",
   "metadata": {},
   "outputs": [],
   "source": [
    "df_relevant = df_all.filter(['price','payment_value'], axis=1)"
   ]
  },
  {
   "cell_type": "code",
   "execution_count": 4,
   "id": "745ad332",
   "metadata": {},
   "outputs": [],
   "source": [
    "# This option ensures that the graphs you create are displayed within the notebook without the need to \"call\" them specifically.\n",
    "\n",
    "%matplotlib inline"
   ]
  },
  {
   "cell_type": "markdown",
   "id": "2a09226c",
   "metadata": {},
   "source": [
    "# Data cleaning"
   ]
  },
  {
   "cell_type": "code",
   "execution_count": 6,
   "id": "41d680d2",
   "metadata": {},
   "outputs": [
    {
     "data": {
      "text/plain": [
       "(113216, 2)"
      ]
     },
     "execution_count": 6,
     "metadata": {},
     "output_type": "execute_result"
    }
   ],
   "source": [
    "df_relevant.shape"
   ]
  },
  {
   "cell_type": "code",
   "execution_count": 7,
   "id": "5e148935",
   "metadata": {},
   "outputs": [
    {
     "data": {
      "text/html": [
       "<div>\n",
       "<style scoped>\n",
       "    .dataframe tbody tr th:only-of-type {\n",
       "        vertical-align: middle;\n",
       "    }\n",
       "\n",
       "    .dataframe tbody tr th {\n",
       "        vertical-align: top;\n",
       "    }\n",
       "\n",
       "    .dataframe thead th {\n",
       "        text-align: right;\n",
       "    }\n",
       "</style>\n",
       "<table border=\"1\" class=\"dataframe\">\n",
       "  <thead>\n",
       "    <tr style=\"text-align: right;\">\n",
       "      <th></th>\n",
       "      <th>price</th>\n",
       "      <th>payment_value</th>\n",
       "    </tr>\n",
       "  </thead>\n",
       "  <tbody>\n",
       "    <tr>\n",
       "      <th>0</th>\n",
       "      <td>29.99</td>\n",
       "      <td>18.12</td>\n",
       "    </tr>\n",
       "    <tr>\n",
       "      <th>1</th>\n",
       "      <td>29.99</td>\n",
       "      <td>2.00</td>\n",
       "    </tr>\n",
       "    <tr>\n",
       "      <th>2</th>\n",
       "      <td>29.99</td>\n",
       "      <td>18.59</td>\n",
       "    </tr>\n",
       "    <tr>\n",
       "      <th>3</th>\n",
       "      <td>29.99</td>\n",
       "      <td>37.77</td>\n",
       "    </tr>\n",
       "    <tr>\n",
       "      <th>4</th>\n",
       "      <td>29.99</td>\n",
       "      <td>37.77</td>\n",
       "    </tr>\n",
       "  </tbody>\n",
       "</table>\n",
       "</div>"
      ],
      "text/plain": [
       "   price  payment_value\n",
       "0  29.99          18.12\n",
       "1  29.99           2.00\n",
       "2  29.99          18.59\n",
       "3  29.99          37.77\n",
       "4  29.99          37.77"
      ]
     },
     "execution_count": 7,
     "metadata": {},
     "output_type": "execute_result"
    }
   ],
   "source": [
    "df_relevant.head()"
   ]
  },
  {
   "cell_type": "markdown",
   "id": "e991c9a2",
   "metadata": {},
   "source": [
    "##### Missing values"
   ]
  },
  {
   "cell_type": "code",
   "execution_count": 8,
   "id": "181f132b",
   "metadata": {},
   "outputs": [
    {
     "data": {
      "text/plain": [
       "price            0\n",
       "payment_value    0\n",
       "dtype: int64"
      ]
     },
     "execution_count": 8,
     "metadata": {},
     "output_type": "execute_result"
    }
   ],
   "source": [
    "# Check for missing values\n",
    "\n",
    "df_relevant.isnull().sum()\n",
    "\n",
    "# No missing values to handle"
   ]
  },
  {
   "cell_type": "markdown",
   "id": "61f7eb2b",
   "metadata": {},
   "source": [
    "##### Duplicates check"
   ]
  },
  {
   "cell_type": "code",
   "execution_count": 9,
   "id": "1bc00647",
   "metadata": {},
   "outputs": [],
   "source": [
    "dups = df_relevant.duplicated()"
   ]
  },
  {
   "cell_type": "code",
   "execution_count": 10,
   "id": "64d838f7",
   "metadata": {},
   "outputs": [
    {
     "data": {
      "text/plain": [
       "(113216,)"
      ]
     },
     "execution_count": 10,
     "metadata": {},
     "output_type": "execute_result"
    }
   ],
   "source": [
    "dups.shape # No dups"
   ]
  },
  {
   "cell_type": "markdown",
   "id": "922b90f6",
   "metadata": {},
   "source": [
    "##### Extreme values checks"
   ]
  },
  {
   "cell_type": "code",
   "execution_count": 11,
   "id": "95922fc9",
   "metadata": {},
   "outputs": [
    {
     "name": "stderr",
     "output_type": "stream",
     "text": [
      "C:\\Users\\franz\\anaconda3\\lib\\site-packages\\seaborn\\distributions.py:2619: FutureWarning: `distplot` is a deprecated function and will be removed in a future version. Please adapt your code to use either `displot` (a figure-level function with similar flexibility) or `histplot` (an axes-level function for histograms).\n",
      "  warnings.warn(msg, FutureWarning)\n"
     ]
    },
    {
     "data": {
      "text/plain": [
       "<AxesSubplot:xlabel='price', ylabel='Density'>"
      ]
     },
     "execution_count": 11,
     "metadata": {},
     "output_type": "execute_result"
    },
    {
     "data": {
      "image/png": "[encoded data removed]",
      "text/plain": [
       "<Figure size 640x480 with 1 Axes>"
      ]
     },
     "metadata": {},
     "output_type": "display_data"
    }
   ],
   "source": [
    "sns.distplot(df_relevant['price'], bins=25) # Shows extreme values\n",
    "\n",
    "# Some of the outliers in the high values may need to be removed, but let's try without doing so first."
   ]
  },
  {
   "cell_type": "code",
   "execution_count": 12,
   "id": "e55b3184",
   "metadata": {},
   "outputs": [
    {
     "name": "stderr",
     "output_type": "stream",
     "text": [
      "C:\\Users\\franz\\anaconda3\\lib\\site-packages\\seaborn\\distributions.py:2619: FutureWarning: `distplot` is a deprecated function and will be removed in a future version. Please adapt your code to use either `displot` (a figure-level function with similar flexibility) or `histplot` (an axes-level function for histograms).\n",
      "  warnings.warn(msg, FutureWarning)\n"
     ]
    },
    {
     "data": {
      "text/plain": [
       "<AxesSubplot:xlabel='payment_value', ylabel='Density'>"
      ]
     },
     "execution_count": 12,
     "metadata": {},
     "output_type": "execute_result"
    },
    {
     "data": {
      "image/png": "[encoded data removed]",
      "text/plain": [
       "<Figure size 640x480 with 1 Axes>"
      ]
     },
     "metadata": {},
     "output_type": "display_data"
    }
   ],
   "source": [
    "sns.distplot(df_relevant['payment_value'], bins=25) # Shows extreme values\n",
    "\n",
    "# Some of the outliers in the high values may need to be removed, but let's try without doing so first."
   ]
  },
  {
   "cell_type": "code",
   "execution_count": 14,
   "id": "6c2f0358",
   "metadata": {
    "scrolled": true
   },
   "outputs": [
    {
     "data": {
      "text/plain": [
       "119.86973996619442"
      ]
     },
     "execution_count": 14,
     "metadata": {},
     "output_type": "execute_result"
    }
   ],
   "source": [
    "df_relevant['price'].mean() # Check the mean"
   ]
  },
  {
   "cell_type": "code",
   "execution_count": 17,
   "id": "341d73ab",
   "metadata": {},
   "outputs": [
    {
     "data": {
      "text/plain": [
       "171.57792476327575"
      ]
     },
     "execution_count": 17,
     "metadata": {},
     "output_type": "execute_result"
    }
   ],
   "source": [
    "df_relevant['payment_value'].mean() # Check the mean"
   ]
  },
  {
   "cell_type": "code",
   "execution_count": 15,
   "id": "24f55f2c",
   "metadata": {},
   "outputs": [
    {
     "data": {
      "text/plain": [
       "74.9"
      ]
     },
     "execution_count": 15,
     "metadata": {},
     "output_type": "execute_result"
    }
   ],
   "source": [
    "df_relevant['price'].median() # Check the median"
   ]
  },
  {
   "cell_type": "code",
   "execution_count": 18,
   "id": "93c68dcd",
   "metadata": {},
   "outputs": [
    {
     "data": {
      "text/plain": [
       "107.97"
      ]
     },
     "execution_count": 18,
     "metadata": {},
     "output_type": "execute_result"
    }
   ],
   "source": [
    "df_relevant['payment_value'].median() # Check the median"
   ]
  },
  {
   "cell_type": "code",
   "execution_count": 16,
   "id": "954071f7",
   "metadata": {},
   "outputs": [
    {
     "data": {
      "text/plain": [
       "6735.0"
      ]
     },
     "execution_count": 16,
     "metadata": {},
     "output_type": "execute_result"
    }
   ],
   "source": [
    "df_relevant['price'].max() # Check the maximum value"
   ]
  },
  {
   "cell_type": "code",
   "execution_count": 19,
   "id": "2856f9b0",
   "metadata": {},
   "outputs": [
    {
     "data": {
      "text/plain": [
       "6735.0"
      ]
     },
     "execution_count": 19,
     "metadata": {},
     "output_type": "execute_result"
    }
   ],
   "source": [
    "df_relevant['price'].max() # Check the maximum value"
   ]
  },
  {
   "cell_type": "markdown",
   "id": "b4a95a44",
   "metadata": {},
   "source": [
    "### 3. Data prep for regression analysis "
   ]
  },
  {
   "cell_type": "code",
   "execution_count": 20,
   "id": "1151b568",
   "metadata": {},
   "outputs": [
    {
     "data": {
      "image/png": "[encoded data removed]",
      "text/plain": [
       "<Figure size 640x480 with 1 Axes>"
      ]
     },
     "metadata": {},
     "output_type": "display_data"
    }
   ],
   "source": [
    "# Create a scatterplot using matplotlib for another look at how the chosen variables plot against each other.\n",
    "\n",
    "df_relevant.plot(x = 'price', y='payment_value',style='o') # The style option creates a scatterplot; without it, we only have lines.\n",
    "plt.title('Price vs. actual Payment Values')  \n",
    "plt.xlabel('price')  \n",
    "plt.ylabel('actual payment value')  \n",
    "plt.show()"
   ]
  },
  {
   "cell_type": "markdown",
   "id": "bf0bed02",
   "metadata": {},
   "source": [
    "#### Hypothesis: \n",
    "##### If the price of a product is high, the actual payment value paid by the customers is high as well."
   ]
  },
  {
   "cell_type": "code",
   "execution_count": 21,
   "id": "a5938727",
   "metadata": {},
   "outputs": [],
   "source": [
    "# Reshape the variables into NumPy arrays and put them into separate objects.\n",
    "\n",
    "X = df_relevant['price'].values.reshape(-1,1)\n",
    "y = df_relevant['payment_value'].values.reshape(-1,1)"
   ]
  },
  {
   "cell_type": "code",
   "execution_count": 22,
   "id": "c362bb92",
   "metadata": {},
   "outputs": [
    {
     "data": {
      "text/plain": [
       "array([[29.99],\n",
       "       [29.99],\n",
       "       [29.99],\n",
       "       ...,\n",
       "       [55.9 ],\n",
       "       [72.  ],\n",
       "       [68.5 ]])"
      ]
     },
     "execution_count": 22,
     "metadata": {},
     "output_type": "execute_result"
    }
   ],
   "source": [
    "X"
   ]
  },
  {
   "cell_type": "code",
   "execution_count": 23,
   "id": "68736811",
   "metadata": {},
   "outputs": [
    {
     "data": {
      "text/plain": [
       "array([[18.12],\n",
       "       [ 2.  ],\n",
       "       [18.59],\n",
       "       ...,\n",
       "       [71.04],\n",
       "       [85.08],\n",
       "       [86.86]])"
      ]
     },
     "execution_count": 23,
     "metadata": {},
     "output_type": "execute_result"
    }
   ],
   "source": [
    "y"
   ]
  },
  {
   "cell_type": "code",
   "execution_count": 24,
   "id": "23ffcdcf",
   "metadata": {},
   "outputs": [],
   "source": [
    "# Split data into a training set and a test set.\n",
    "\n",
    "X_train, X_test, y_train, y_test = train_test_split(X, y, test_size=0.3, random_state=0)"
   ]
  },
  {
   "cell_type": "markdown",
   "id": "b09049ce",
   "metadata": {},
   "source": [
    "### 4. Regression analysis"
   ]
  },
  {
   "cell_type": "code",
   "execution_count": 25,
   "id": "1d513b95",
   "metadata": {},
   "outputs": [],
   "source": [
    "# Create a regression object.\n",
    "\n",
    "regression = LinearRegression()  # This is the regression object, which will be fit onto the training set."
   ]
  },
  {
   "cell_type": "code",
   "execution_count": 26,
   "id": "e419da90",
   "metadata": {},
   "outputs": [
    {
     "data": {
      "text/plain": [
       "LinearRegression()"
      ]
     },
     "execution_count": 26,
     "metadata": {},
     "output_type": "execute_result"
    }
   ],
   "source": [
    "# Fit the regression object onto the training set.\n",
    "\n",
    "regression.fit(X_train, y_train)"
   ]
  },
  {
   "cell_type": "code",
   "execution_count": 28,
   "id": "9f60aa7d",
   "metadata": {},
   "outputs": [],
   "source": [
    "# Predict the values of y using X.\n",
    "\n",
    "y_predicted = regression.predict(X_test)"
   ]
  },
  {
   "cell_type": "code",
   "execution_count": 29,
   "id": "f3b5c530",
   "metadata": {},
   "outputs": [
    {
     "data": {
      "image/png": "[encoded data removed]",
      "text/plain": [
       "<Figure size 640x480 with 1 Axes>"
      ]
     },
     "metadata": {},
     "output_type": "display_data"
    }
   ],
   "source": [
    "# Create a plot that shows the regression line from the model on the test set.\n",
    "\n",
    "plot_test = plt\n",
    "plot_test.scatter(X_test, y_test, color='gray', s = 15)\n",
    "plot_test.plot(X_test, y_predicted, color='red', linewidth =3)\n",
    "plot_test.title('Price vs. actual Payment Values (Test set)')\n",
    "plot_test.xlabel('Price')\n",
    "plot_test.ylabel('Actual Payment Value')\n",
    "plot_test.show()"
   ]
  },
  {
   "cell_type": "markdown",
   "id": "8e2c02e9",
   "metadata": {},
   "source": [
    "When the price is high (> 1.500 dollars), the payment value is driven down almost linearly. It doesn’t play as large a role when the price is less. There is a wide dispersion of points. As this is also where we have the highest density of points within the data, this confirms a single regression line as not being the most accurate prediction model. \n",
    "\n",
    "In addition, in this case, a differentiation of the payment value per product (instead of per order) would be necessary. The fact that a payment value can conceal the payment value for not just one but several products is the reason why many orders were supposedly paid for more than the product cost. This makes no sense and therefore these points should be ignored. \n",
    "\n",
    "The remaining data points can then be used to determine, for example, what the return rates or price reductions look like."
   ]
  },
  {
   "cell_type": "code",
   "execution_count": 30,
   "id": "822f37b9",
   "metadata": {},
   "outputs": [],
   "source": [
    "# Create objects that contain the model summary statistics.\n",
    "\n",
    "rmse = mean_squared_error(y_test, y_predicted) # This is the mean squared error\n",
    "r2 = r2_score(y_test, y_predicted) # This is the R2 score. "
   ]
  },
  {
   "cell_type": "code",
   "execution_count": 31,
   "id": "40c49965",
   "metadata": {},
   "outputs": [
    {
     "name": "stdout",
     "output_type": "stream",
     "text": [
      "Slope: [[1.06812002]]\n",
      "Mean squared error:  39561.51491050881\n",
      "R2 score:  0.5078147911905107\n"
     ]
    }
   ],
   "source": [
    "# Print the model summary statistics. This is where we evaluate the performance of the model.\n",
    "\n",
    "print('Slope:' ,regression.coef_)\n",
    "print('Mean squared error: ', rmse)\n",
    "print('R2 score: ', r2)"
   ]
  },
  {
   "cell_type": "markdown",
   "id": "fa143f02",
   "metadata": {},
   "source": [
    "Dropping rows with irrelevant orders due to payment value being higher than the products price:"
   ]
  },
  {
   "cell_type": "code",
   "execution_count": 34,
   "id": "e6fc95d8",
   "metadata": {},
   "outputs": [],
   "source": [
    "df_relevant.loc[df_relevant['payment_value'] <= df_relevant['price'], 'regression_usefullness'] = 'useful_order'\n",
    "df_relevant.loc[df_relevant['payment_value'] > df_relevant['price'], 'regression_usefullness'] = 'irrelevant_order'"
   ]
  },
  {
   "cell_type": "code",
   "execution_count": 42,
   "id": "2400c874",
   "metadata": {},
   "outputs": [
    {
     "data": {
      "text/plain": [
       "irrelevant_order    106744\n",
       "useful_order          6472\n",
       "Name: regression_usefullness, dtype: int64"
      ]
     },
     "execution_count": 42,
     "metadata": {},
     "output_type": "execute_result"
    }
   ],
   "source": [
    "df_relevant['regression_usefullness'].value_counts(dropna = False)"
   ]
  },
  {
   "cell_type": "code",
   "execution_count": 43,
   "id": "80a0ddd9",
   "metadata": {},
   "outputs": [
    {
     "data": {
      "text/plain": [
       "(113216, 3)"
      ]
     },
     "execution_count": 43,
     "metadata": {},
     "output_type": "execute_result"
    }
   ],
   "source": [
    "df_relevant.shape"
   ]
  },
  {
   "cell_type": "markdown",
   "id": "11c01f91",
   "metadata": {},
   "source": [
    "Only 6472 Rows out of 113216 Rows can be used for the regression analysis. However, as 5.000 Rows are the minimum requirement, we proceed that way."
   ]
  },
  {
   "cell_type": "code",
   "execution_count": 39,
   "id": "61354177",
   "metadata": {
    "scrolled": false
   },
   "outputs": [
    {
     "data": {
      "text/html": [
       "<div>\n",
       "<style scoped>\n",
       "    .dataframe tbody tr th:only-of-type {\n",
       "        vertical-align: middle;\n",
       "    }\n",
       "\n",
       "    .dataframe tbody tr th {\n",
       "        vertical-align: top;\n",
       "    }\n",
       "\n",
       "    .dataframe thead th {\n",
       "        text-align: right;\n",
       "    }\n",
       "</style>\n",
       "<table border=\"1\" class=\"dataframe\">\n",
       "  <thead>\n",
       "    <tr style=\"text-align: right;\">\n",
       "      <th></th>\n",
       "      <th>price</th>\n",
       "      <th>payment_value</th>\n",
       "      <th>regression_usefullness</th>\n",
       "    </tr>\n",
       "  </thead>\n",
       "  <tbody>\n",
       "    <tr>\n",
       "      <th>0</th>\n",
       "      <td>29.99</td>\n",
       "      <td>18.12</td>\n",
       "      <td>useful_order</td>\n",
       "    </tr>\n",
       "    <tr>\n",
       "      <th>1</th>\n",
       "      <td>29.99</td>\n",
       "      <td>2.00</td>\n",
       "      <td>useful_order</td>\n",
       "    </tr>\n",
       "    <tr>\n",
       "      <th>2</th>\n",
       "      <td>29.99</td>\n",
       "      <td>18.59</td>\n",
       "      <td>useful_order</td>\n",
       "    </tr>\n",
       "    <tr>\n",
       "      <th>3</th>\n",
       "      <td>29.99</td>\n",
       "      <td>37.77</td>\n",
       "      <td>irrelevant_order</td>\n",
       "    </tr>\n",
       "    <tr>\n",
       "      <th>4</th>\n",
       "      <td>29.99</td>\n",
       "      <td>37.77</td>\n",
       "      <td>irrelevant_order</td>\n",
       "    </tr>\n",
       "  </tbody>\n",
       "</table>\n",
       "</div>"
      ],
      "text/plain": [
       "   price  payment_value regression_usefullness\n",
       "0  29.99          18.12           useful_order\n",
       "1  29.99           2.00           useful_order\n",
       "2  29.99          18.59           useful_order\n",
       "3  29.99          37.77       irrelevant_order\n",
       "4  29.99          37.77       irrelevant_order"
      ]
     },
     "execution_count": 39,
     "metadata": {},
     "output_type": "execute_result"
    }
   ],
   "source": [
    "df_relevant.head()"
   ]
  },
  {
   "cell_type": "code",
   "execution_count": 49,
   "id": "0d1cf94b",
   "metadata": {},
   "outputs": [],
   "source": [
    "# dropping irrelevant_order rows\n",
    "df_relevant.drop(df_relevant.loc[df_relevant['regression_usefullness'] == 'irrelevant_order'].index, inplace=True)"
   ]
  },
  {
   "cell_type": "code",
   "execution_count": 54,
   "id": "ca6b8d40",
   "metadata": {},
   "outputs": [
    {
     "data": {
      "text/plain": [
       "(6472, 3)"
      ]
     },
     "execution_count": 54,
     "metadata": {},
     "output_type": "execute_result"
    }
   ],
   "source": [
    "df_relevant.shape"
   ]
  },
  {
   "cell_type": "markdown",
   "id": "c1915999",
   "metadata": {},
   "source": [
    "Only the orders containing 1 article are left. "
   ]
  },
  {
   "cell_type": "markdown",
   "id": "217a6fde",
   "metadata": {},
   "source": [
    "### 5. Revised Regression Analysis using the reduced dataframe"
   ]
  },
  {
   "cell_type": "code",
   "execution_count": 55,
   "id": "07a5966d",
   "metadata": {},
   "outputs": [],
   "source": [
    "# Reshape the variables into NumPy arrays and put them into separate objects.\n",
    "\n",
    "X = df_relevant['price'].values.reshape(-1,1)\n",
    "y = df_relevant['payment_value'].values.reshape(-1,1)"
   ]
  },
  {
   "cell_type": "code",
   "execution_count": 56,
   "id": "c116ba09",
   "metadata": {},
   "outputs": [],
   "source": [
    "# Split data into a training set and a test set.\n",
    "\n",
    "X_train, X_test, y_train, y_test = train_test_split(X, y, test_size=0.3, random_state=0)"
   ]
  },
  {
   "cell_type": "code",
   "execution_count": 57,
   "id": "ce8bccd9",
   "metadata": {},
   "outputs": [],
   "source": [
    "# Create a regression object.\n",
    "\n",
    "regression = LinearRegression()  # This is the regression object, which will be fit onto the training set."
   ]
  },
  {
   "cell_type": "code",
   "execution_count": 58,
   "id": "8b7925c0",
   "metadata": {},
   "outputs": [
    {
     "data": {
      "text/plain": [
       "LinearRegression()"
      ]
     },
     "execution_count": 58,
     "metadata": {},
     "output_type": "execute_result"
    }
   ],
   "source": [
    "# Fit the regression object onto the training set.\n",
    "\n",
    "regression.fit(X_train, y_train)"
   ]
  },
  {
   "cell_type": "code",
   "execution_count": 59,
   "id": "71f5e31b",
   "metadata": {},
   "outputs": [],
   "source": [
    "# Predict the values of y using X.\n",
    "\n",
    "y_predicted = regression.predict(X_test)"
   ]
  },
  {
   "cell_type": "code",
   "execution_count": 60,
   "id": "50aa6121",
   "metadata": {},
   "outputs": [
    {
     "data": {
      "image/png": "[encoded data removed]",
      "text/plain": [
       "<Figure size 640x480 with 1 Axes>"
      ]
     },
     "metadata": {},
     "output_type": "display_data"
    }
   ],
   "source": [
    "# Create a plot that shows the regression line from the model on the test set.\n",
    "\n",
    "plot_test = plt\n",
    "plot_test.scatter(X_test, y_test, color='gray', s = 15)\n",
    "plot_test.plot(X_test, y_predicted, color='red', linewidth =3)\n",
    "plot_test.title('Price vs. actual Payment Values (Test set)')\n",
    "plot_test.xlabel('Price')\n",
    "plot_test.ylabel('Actual Payment Value')\n",
    "plot_test.show()"
   ]
  },
  {
   "cell_type": "code",
   "execution_count": 62,
   "id": "3af66fa4",
   "metadata": {},
   "outputs": [
    {
     "data": {
      "text/plain": [
       "135.36959981458992"
      ]
     },
     "execution_count": 62,
     "metadata": {},
     "output_type": "execute_result"
    }
   ],
   "source": [
    "df_relevant['price'].mean() # Check the mean"
   ]
  },
  {
   "cell_type": "code",
   "execution_count": 63,
   "id": "d00fb88b",
   "metadata": {},
   "outputs": [
    {
     "data": {
      "text/plain": [
       "59.46558405438811"
      ]
     },
     "execution_count": 63,
     "metadata": {},
     "output_type": "execute_result"
    }
   ],
   "source": [
    "df_relevant['payment_value'].mean() # Check the mean"
   ]
  },
  {
   "cell_type": "code",
   "execution_count": 64,
   "id": "af7624a0",
   "metadata": {},
   "outputs": [
    {
     "data": {
      "text/plain": [
       "79.99"
      ]
     },
     "execution_count": 64,
     "metadata": {},
     "output_type": "execute_result"
    }
   ],
   "source": [
    "df_relevant['price'].median() # Check the median"
   ]
  },
  {
   "cell_type": "code",
   "execution_count": 66,
   "id": "f8edd678",
   "metadata": {},
   "outputs": [
    {
     "data": {
      "text/plain": [
       "25.77"
      ]
     },
     "execution_count": 66,
     "metadata": {},
     "output_type": "execute_result"
    }
   ],
   "source": [
    "df_relevant['payment_value'].median() # Check the median"
   ]
  },
  {
   "cell_type": "markdown",
   "id": "f516326a",
   "metadata": {},
   "source": [
    "This model can be better used to predict the expected actual sales per product, which also means how high the return rate is likely to be or how high any discounts might be. Here, however, further differentiation by product category or by seller would be useful. The likelihood that, for example, a product from the food category that costs 50 dollars will behave identically to a product from the toy category in terms of expected actual sales is extremely unlikely. "
   ]
  },
  {
   "cell_type": "code",
   "execution_count": 73,
   "id": "ac1f9d41",
   "metadata": {},
   "outputs": [],
   "source": [
    "# Create objects that contain the model summary statistics.\n",
    "\n",
    "rmse = mean_squared_error(y_test, y_predicted) # This is the mean squared error\n",
    "r2 = r2_score(y_test, y_predicted) # This is the R2 score. "
   ]
  },
  {
   "cell_type": "code",
   "execution_count": 74,
   "id": "fae97c51",
   "metadata": {},
   "outputs": [
    {
     "name": "stdout",
     "output_type": "stream",
     "text": [
      "Slope: [[0.46189529]]\n",
      "Mean squared error:  6116.748713791757\n",
      "R2 score:  0.5868462642352819\n"
     ]
    }
   ],
   "source": [
    "# Print the model summary statistics. This is where we evaluate the performance of the model.\n",
    "\n",
    "print('Slope:' ,regression.coef_)\n",
    "print('Mean squared error: ', rmse)\n",
    "print('R2 score: ', r2)"
   ]
  },
  {
   "cell_type": "markdown",
   "id": "e17e90bc",
   "metadata": {},
   "source": [
    "The slope is positive, meaning if the price increases, then the payment value does as well with a degree of 0.46, This is great!\n",
    "The R2 (r-squared value is a metric which tells how well the model explains the variance in the data. It is a number between 0 and 1, where values closer to 0 indicate a poor fit, and values closer to 1 indicate a good fit. The R2 score for the model is 0.59, meaning 59% out of one hundred. It is not a too great fit, but better than before reducing the dataframe. "
   ]
  },
  {
   "cell_type": "code",
   "execution_count": 75,
   "id": "a9775b51",
   "metadata": {},
   "outputs": [
    {
     "data": {
      "text/html": [
       "<div>\n",
       "<style scoped>\n",
       "    .dataframe tbody tr th:only-of-type {\n",
       "        vertical-align: middle;\n",
       "    }\n",
       "\n",
       "    .dataframe tbody tr th {\n",
       "        vertical-align: top;\n",
       "    }\n",
       "\n",
       "    .dataframe thead th {\n",
       "        text-align: right;\n",
       "    }\n",
       "</style>\n",
       "<table border=\"1\" class=\"dataframe\">\n",
       "  <thead>\n",
       "    <tr style=\"text-align: right;\">\n",
       "      <th></th>\n",
       "      <th>Actual</th>\n",
       "      <th>Predicted</th>\n",
       "    </tr>\n",
       "  </thead>\n",
       "  <tbody>\n",
       "    <tr>\n",
       "      <th>0</th>\n",
       "      <td>5.23</td>\n",
       "      <td>14.923650</td>\n",
       "    </tr>\n",
       "    <tr>\n",
       "      <th>1</th>\n",
       "      <td>25.00</td>\n",
       "      <td>52.568116</td>\n",
       "    </tr>\n",
       "    <tr>\n",
       "      <th>2</th>\n",
       "      <td>25.00</td>\n",
       "      <td>20.420204</td>\n",
       "    </tr>\n",
       "    <tr>\n",
       "      <th>3</th>\n",
       "      <td>25.00</td>\n",
       "      <td>36.124644</td>\n",
       "    </tr>\n",
       "    <tr>\n",
       "      <th>4</th>\n",
       "      <td>4.74</td>\n",
       "      <td>24.161556</td>\n",
       "    </tr>\n",
       "    <tr>\n",
       "      <th>5</th>\n",
       "      <td>23.27</td>\n",
       "      <td>11.223868</td>\n",
       "    </tr>\n",
       "    <tr>\n",
       "      <th>6</th>\n",
       "      <td>182.56</td>\n",
       "      <td>95.755326</td>\n",
       "    </tr>\n",
       "    <tr>\n",
       "      <th>7</th>\n",
       "      <td>6.66</td>\n",
       "      <td>16.766612</td>\n",
       "    </tr>\n",
       "    <tr>\n",
       "      <th>8</th>\n",
       "      <td>24.51</td>\n",
       "      <td>13.999859</td>\n",
       "    </tr>\n",
       "    <tr>\n",
       "      <th>9</th>\n",
       "      <td>108.71</td>\n",
       "      <td>242.638028</td>\n",
       "    </tr>\n",
       "    <tr>\n",
       "      <th>10</th>\n",
       "      <td>503.86</td>\n",
       "      <td>418.158238</td>\n",
       "    </tr>\n",
       "    <tr>\n",
       "      <th>11</th>\n",
       "      <td>300.80</td>\n",
       "      <td>320.698332</td>\n",
       "    </tr>\n",
       "    <tr>\n",
       "      <th>12</th>\n",
       "      <td>36.38</td>\n",
       "      <td>85.547440</td>\n",
       "    </tr>\n",
       "    <tr>\n",
       "      <th>13</th>\n",
       "      <td>25.50</td>\n",
       "      <td>25.962947</td>\n",
       "    </tr>\n",
       "    <tr>\n",
       "      <th>14</th>\n",
       "      <td>20.00</td>\n",
       "      <td>19.034518</td>\n",
       "    </tr>\n",
       "    <tr>\n",
       "      <th>15</th>\n",
       "      <td>30.00</td>\n",
       "      <td>35.787460</td>\n",
       "    </tr>\n",
       "    <tr>\n",
       "      <th>16</th>\n",
       "      <td>11.48</td>\n",
       "      <td>43.976864</td>\n",
       "    </tr>\n",
       "    <tr>\n",
       "      <th>17</th>\n",
       "      <td>512.88</td>\n",
       "      <td>436.634050</td>\n",
       "    </tr>\n",
       "    <tr>\n",
       "      <th>18</th>\n",
       "      <td>9.73</td>\n",
       "      <td>19.949071</td>\n",
       "    </tr>\n",
       "    <tr>\n",
       "      <th>19</th>\n",
       "      <td>100.00</td>\n",
       "      <td>71.736770</td>\n",
       "    </tr>\n",
       "    <tr>\n",
       "      <th>20</th>\n",
       "      <td>1.70</td>\n",
       "      <td>80.512781</td>\n",
       "    </tr>\n",
       "    <tr>\n",
       "      <th>21</th>\n",
       "      <td>73.40</td>\n",
       "      <td>42.632748</td>\n",
       "    </tr>\n",
       "    <tr>\n",
       "      <th>22</th>\n",
       "      <td>100.00</td>\n",
       "      <td>57.833722</td>\n",
       "    </tr>\n",
       "    <tr>\n",
       "      <th>23</th>\n",
       "      <td>18.04</td>\n",
       "      <td>16.304717</td>\n",
       "    </tr>\n",
       "    <tr>\n",
       "      <th>24</th>\n",
       "      <td>71.80</td>\n",
       "      <td>32.013775</td>\n",
       "    </tr>\n",
       "    <tr>\n",
       "      <th>25</th>\n",
       "      <td>50.00</td>\n",
       "      <td>34.738958</td>\n",
       "    </tr>\n",
       "    <tr>\n",
       "      <th>26</th>\n",
       "      <td>61.48</td>\n",
       "      <td>65.593563</td>\n",
       "    </tr>\n",
       "    <tr>\n",
       "      <th>27</th>\n",
       "      <td>300.00</td>\n",
       "      <td>173.307545</td>\n",
       "    </tr>\n",
       "    <tr>\n",
       "      <th>28</th>\n",
       "      <td>3.88</td>\n",
       "      <td>4.138395</td>\n",
       "    </tr>\n",
       "    <tr>\n",
       "      <th>29</th>\n",
       "      <td>127.94</td>\n",
       "      <td>112.840832</td>\n",
       "    </tr>\n",
       "  </tbody>\n",
       "</table>\n",
       "</div>"
      ],
      "text/plain": [
       "    Actual   Predicted\n",
       "0     5.23   14.923650\n",
       "1    25.00   52.568116\n",
       "2    25.00   20.420204\n",
       "3    25.00   36.124644\n",
       "4     4.74   24.161556\n",
       "5    23.27   11.223868\n",
       "6   182.56   95.755326\n",
       "7     6.66   16.766612\n",
       "8    24.51   13.999859\n",
       "9   108.71  242.638028\n",
       "10  503.86  418.158238\n",
       "11  300.80  320.698332\n",
       "12   36.38   85.547440\n",
       "13   25.50   25.962947\n",
       "14   20.00   19.034518\n",
       "15   30.00   35.787460\n",
       "16   11.48   43.976864\n",
       "17  512.88  436.634050\n",
       "18    9.73   19.949071\n",
       "19  100.00   71.736770\n",
       "20    1.70   80.512781\n",
       "21   73.40   42.632748\n",
       "22  100.00   57.833722\n",
       "23   18.04   16.304717\n",
       "24   71.80   32.013775\n",
       "25   50.00   34.738958\n",
       "26   61.48   65.593563\n",
       "27  300.00  173.307545\n",
       "28    3.88    4.138395\n",
       "29  127.94  112.840832"
      ]
     },
     "execution_count": 75,
     "metadata": {},
     "output_type": "execute_result"
    }
   ],
   "source": [
    "# Create a dataframe comparing the actual and predicted values of y.\n",
    "\n",
    "data = pd.DataFrame({'Actual': y_test.flatten(), 'Predicted': y_predicted.flatten()})\n",
    "data.head(30)"
   ]
  },
  {
   "cell_type": "markdown",
   "id": "4f4174b7",
   "metadata": {},
   "source": [
    "Indeed, there is a huge deviation between the predicted and actual payment values. I think this could be improved by adding further variables to the regression analysis, like product category or seller. "
   ]
  },
  {
   "cell_type": "code",
   "execution_count": null,
   "id": "cec60aee",
   "metadata": {},
   "outputs": [],
   "source": []
  }
 ],
 "metadata": {
  "kernelspec": {
   "display_name": "Python 3 (ipykernel)",
   "language": "python",
   "name": "python3"
  },
  "language_info": {
   "codemirror_mode": {
    "name": "ipython",
    "version": 3
   },
   "file_extension": ".py",
   "mimetype": "text/x-python",
   "name": "python",
   "nbconvert_exporter": "python",
   "pygments_lexer": "ipython3",
   "version": "3.9.13"
  }
 },
 "nbformat": 4,
 "nbformat_minor": 5
}
